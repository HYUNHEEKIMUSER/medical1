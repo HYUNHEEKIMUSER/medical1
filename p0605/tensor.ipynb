{
 "cells": [
  {
   "cell_type": "markdown",
   "metadata": {},
   "source": [
    "단층 퍼셉트론\n",
    "- 퍼셉트론: 다수의 신호를 입력 받아 하나의 신호를 출력\n",
    "- 입력 신호(x1, x2), 출력 신호(y), 가중치(w1, w2)로 구성\n",
    "- 가중합(weighted sum)이 임계치를 넘어야 출력"
   ]
  },
  {
   "cell_type": "code",
   "execution_count": 62,
   "metadata": {},
   "outputs": [],
   "source": [
    "import numpy as np"
   ]
  },
  {
   "cell_type": "code",
   "execution_count": 63,
   "metadata": {},
   "outputs": [
    {
     "data": {
      "text/plain": [
       "-0.19999999999999996"
      ]
     },
     "execution_count": 63,
     "metadata": {},
     "output_type": "execute_result"
    }
   ],
   "source": [
    "x = np.array([0,1])\n",
    "w = np.array([0.5, 0.5])\n",
    "b= -.7\n",
    "\n",
    "np.sum(w*x)+b"
   ]
  },
  {
   "cell_type": "markdown",
   "metadata": {},
   "source": [
    "활성화 함수 - activation function\n",
    "- sigmoid\n",
    "- relu\n",
    "- 비선형성 생성"
   ]
  },
  {
   "cell_type": "code",
   "execution_count": 64,
   "metadata": {},
   "outputs": [],
   "source": [
    "# custom - 계산을 안정적으로 처리\n",
    "\n",
    "def sigmoid(x):\n",
    "    pos_mask = (x>=0)\n",
    "    neg_mask = (x<0)\n",
    "    z = np.zeros_like(x) # 입력값과 같은 크기의 배열을 0으로 생성\n",
    "    z[pos_mask] = np.exp(-x[pos_mask])\n",
    "    z[neg_mask] = np.exp(x[neg_mask])\n",
    "    top = np.ones_like(x)\n",
    "    top[neg_mask] = z[neg_mask] #입력값이 0보다 작은 경우 분자를 exp(x)로 설정\n",
    "    return top/(1+z)\n",
    "    "
   ]
  },
  {
   "cell_type": "code",
   "execution_count": 65,
   "metadata": {},
   "outputs": [],
   "source": [
    "# ReLU\n",
    "def relu(x):\n",
    "    return np.maximum(0, x)"
   ]
  },
  {
   "cell_type": "code",
   "execution_count": 66,
   "metadata": {},
   "outputs": [
    {
     "data": {
      "text/plain": [
       "array([0.26894142, 0.73105858, 0.95257413])"
      ]
     },
     "execution_count": 66,
     "metadata": {},
     "output_type": "execute_result"
    }
   ],
   "source": [
    "x = np.array([-1.0, 1.0, 3.0])\n",
    "sigmoid(x)"
   ]
  },
  {
   "cell_type": "code",
   "execution_count": 67,
   "metadata": {},
   "outputs": [
    {
     "data": {
      "text/plain": [
       "array([0., 1., 3.])"
      ]
     },
     "execution_count": 67,
     "metadata": {},
     "output_type": "execute_result"
    }
   ],
   "source": [
    "relu(x)"
   ]
  },
  {
   "cell_type": "markdown",
   "metadata": {},
   "source": [
    "다층 퍼셉트론"
   ]
  },
  {
   "cell_type": "code",
   "execution_count": 68,
   "metadata": {},
   "outputs": [
    {
     "ename": "TypeError",
     "evalue": "'function' object is not subscriptable",
     "output_type": "error",
     "traceback": [
      "\u001b[1;31m---------------------------------------------------------------------------\u001b[0m",
      "\u001b[1;31mTypeError\u001b[0m                                 Traceback (most recent call last)",
      "Cell \u001b[1;32mIn[68], line 30\u001b[0m\n\u001b[0;32m     28\u001b[0m network \u001b[38;5;241m=\u001b[39m init_network\n\u001b[0;32m     29\u001b[0m x \u001b[38;5;241m=\u001b[39m np\u001b[38;5;241m.\u001b[39marray([\u001b[38;5;241m1.\u001b[39m, \u001b[38;5;241m-\u001b[39m\u001b[38;5;241m1.\u001b[39m])\n\u001b[1;32m---> 30\u001b[0m y \u001b[38;5;241m=\u001b[39m \u001b[43mforward\u001b[49m\u001b[43m(\u001b[49m\u001b[43mnetwork\u001b[49m\u001b[43m,\u001b[49m\u001b[43m \u001b[49m\u001b[43mx\u001b[49m\u001b[43m)\u001b[49m\n\u001b[0;32m     31\u001b[0m y\n",
      "Cell \u001b[1;32mIn[68], line 16\u001b[0m, in \u001b[0;36mforward\u001b[1;34m(network, x)\u001b[0m\n\u001b[0;32m     15\u001b[0m \u001b[38;5;28;01mdef\u001b[39;00m \u001b[38;5;21mforward\u001b[39m(network, x):\n\u001b[1;32m---> 16\u001b[0m     W1, W2 ,W3 \u001b[38;5;241m=\u001b[39m \u001b[43mnetwork\u001b[49m\u001b[43m[\u001b[49m\u001b[38;5;124;43m'\u001b[39;49m\u001b[38;5;124;43mW1\u001b[39;49m\u001b[38;5;124;43m'\u001b[39;49m\u001b[43m]\u001b[49m,network[\u001b[38;5;124m'\u001b[39m\u001b[38;5;124mW2\u001b[39m\u001b[38;5;124m'\u001b[39m],network[\u001b[38;5;124m'\u001b[39m\u001b[38;5;124mW3\u001b[39m\u001b[38;5;124m'\u001b[39m]\n\u001b[0;32m     17\u001b[0m     b1, b2, b3 \u001b[38;5;241m=\u001b[39m network[\u001b[38;5;124m'\u001b[39m\u001b[38;5;124mb1\u001b[39m\u001b[38;5;124m'\u001b[39m],network[\u001b[38;5;124m'\u001b[39m\u001b[38;5;124mb2\u001b[39m\u001b[38;5;124m'\u001b[39m],network[\u001b[38;5;124m'\u001b[39m\u001b[38;5;124mb3\u001b[39m\u001b[38;5;124m'\u001b[39m]\n\u001b[0;32m     19\u001b[0m     a1 \u001b[38;5;241m=\u001b[39m np\u001b[38;5;241m.\u001b[39mdot(x, W1) \u001b[38;5;241m+\u001b[39m b1\n",
      "\u001b[1;31mTypeError\u001b[0m: 'function' object is not subscriptable"
     ]
    }
   ],
   "source": [
    "def init_network():\n",
    "    network = {}\n",
    "    network['W1'] =np.array([[0.1,0.3,0.5],[0.2,0.4,.6]])\n",
    "    network['b1'] = np.array([0.1,0.2,0.3])\n",
    "    network['W2'] =np.array([[0.1,0.4],[0.2,0.5],[0.3,0.6]])\n",
    "    network['b2'] = np.array([0.1,0.2,0.3])\n",
    "    network['W3'] =np.array([[0.1,0.3,0.5],[0.2,0.4,0.6]])\n",
    "    network['b3'] = np.array([0.1,0.2,0.3])\n",
    "    \n",
    "    return network\n",
    "\n",
    "def identify_function(x):\n",
    "    return x\n",
    "\n",
    "def forward(network, x):\n",
    "    W1, W2 ,W3 = network['W1'],network['W2'],network['W3']\n",
    "    b1, b2, b3 = network['b1'],network['b2'],network['b3']\n",
    "    \n",
    "    a1 = np.dot(x, W1) + b1\n",
    "    z1 = sigmoid(a1)\n",
    "    a2 = np.dot(z1, W2) + b2\n",
    "    z2 = sigmoid(a2)\n",
    "    a3 = np.dot(z2, W3) + b3\n",
    "    y = identify_function(a3)\n",
    "    \n",
    "    return y\n",
    "\n",
    "network = init_network\n",
    "x = np.array([1., -1.])\n",
    "y = forward(network, x)\n",
    "y"
   ]
  },
  {
   "cell_type": "code",
   "execution_count": null,
   "metadata": {},
   "outputs": [],
   "source": [
    "# softmax\n",
    "\n",
    "def softmax(x):\n",
    "    c=np.max(x)\n",
    "    exp_x = np.exp(x-c)\n",
    "    sum_exp_x = np.sum(exp_x)\n",
    "    y = exp_x/sum_exp_x\n",
    "    return y"
   ]
  },
  {
   "cell_type": "code",
   "execution_count": null,
   "metadata": {},
   "outputs": [
    {
     "name": "stderr",
     "output_type": "stream",
     "text": [
      "fatal: destination path 'xray_classification_pneumonia' already exists and is not an empty directory.\n"
     ]
    }
   ],
   "source": [
    "# pneumonia\n",
    "\n",
    "!git clone https://github.com/anantSinghCross/xray_classification_pneumonia.git"
   ]
  },
  {
   "cell_type": "code",
   "execution_count": null,
   "metadata": {},
   "outputs": [],
   "source": [
    "import glob\n",
    "base_path = './xray_classification_pneumonia/Dataset_compressed/train'\n",
    "file_path = list(glob.glob(base_path + \"/*/*.*\"))\n",
    "pneumonia = list(glob.glob(base_path+\"/PNEUMONIA/*.*\"))\n",
    "normal = list(glob.glob(base_path+\"/NORMAL/*.*\"))"
   ]
  },
  {
   "cell_type": "code",
   "execution_count": null,
   "metadata": {},
   "outputs": [
    {
     "data": {
      "text/plain": [
       "(3875, 1341)"
      ]
     },
     "execution_count": 37,
     "metadata": {},
     "output_type": "execute_result"
    }
   ],
   "source": [
    "len(pneumonia), len(normal)"
   ]
  },
  {
   "cell_type": "code",
   "execution_count": null,
   "metadata": {},
   "outputs": [
    {
     "name": "stdout",
     "output_type": "stream",
     "text": [
      "./xray_classification_pneumonia/Dataset_compressed/train\\NORMAL\n",
      "('./xray_classification_pneumonia/Dataset_compressed', 'train')\n"
     ]
    }
   ],
   "source": [
    "import matplotlib.pyplot as plt\n",
    "import os\n",
    "test = os.path.dirname(file_path[0])\n",
    "print(test)\n",
    "class_name = os.path.split(os.path.dirname(test))\n",
    "print(class_name)"
   ]
  },
  {
   "cell_type": "code",
   "execution_count": null,
   "metadata": {},
   "outputs": [],
   "source": [
    "# folder name to label\n",
    "labels = []\n",
    "for fp in file_path:\n",
    "    tmp = os.path.dirname(fp)\n",
    "    class_name = os.path.split(tmp)\n",
    "    if class_name[1] == \"PNEUMONIA\":\n",
    "        labels.append(1)\n",
    "    else:\n",
    "        labels.append(0)"
   ]
  },
  {
   "cell_type": "code",
   "execution_count": 69,
   "metadata": {},
   "outputs": [],
   "source": [
    "import numpy as np\n",
    "from tensorflow.keras.utils import array_to_img\n",
    "from tensorflow.keras.preprocessing.image import img_to_array, load_img\n",
    "import cv2"
   ]
  },
  {
   "cell_type": "code",
   "execution_count": 70,
   "metadata": {},
   "outputs": [
    {
     "name": "stdout",
     "output_type": "stream",
     "text": [
      "250 images to array\n",
      "500 images to array\n",
      "750 images to array\n",
      "1000 images to array\n",
      "1250 images to array\n",
      "1500 images to array\n",
      "1750 images to array\n",
      "2000 images to array\n",
      "2250 images to array\n",
      "2500 images to array\n",
      "2750 images to array\n",
      "3000 images to array\n",
      "3250 images to array\n",
      "3500 images to array\n",
      "3750 images to array\n",
      "4000 images to array\n",
      "4250 images to array\n",
      "4500 images to array\n",
      "4750 images to array\n",
      "5000 images to array\n",
      "Done!\n"
     ]
    }
   ],
   "source": [
    "img_width = 60\n",
    "img_height = 60\n",
    "dataset = np.ndarray(shape=(len(file_path), img_height*img_width), dtype=np.float32)\n",
    "i=0\n",
    "for _file in file_path:\n",
    "    img = cv2.imread(_file, cv2.IMREAD_GRAYSCALE)\n",
    "    img_resized = cv2.resize(img, (img_width, img_height))\n",
    "    \n",
    "    dataset[i] = img_resized.flatten()\n",
    "    i += 1\n",
    "    if i % 250 == 0:\n",
    "        print(f\"{i} images to array\")\n",
    "print(\"Done!\")"
   ]
  },
  {
   "cell_type": "code",
   "execution_count": 71,
   "metadata": {},
   "outputs": [],
   "source": [
    "# softmax\n",
    "\n",
    "def softmax(x):\n",
    "    c=np.max(x)\n",
    "    exp_x = np.exp(x-c)\n",
    "    sum_exp_x = np.sum(exp_x)\n",
    "    y = exp_x/sum_exp_x\n",
    "    return y"
   ]
  },
  {
   "cell_type": "code",
   "execution_count": 72,
   "metadata": {},
   "outputs": [],
   "source": [
    "# custom - 계산을 안정적으로 처리\n",
    "\n",
    "def sigmoid(x):\n",
    "    pos_mask = (x>=0)\n",
    "    neg_mask = (x<0)\n",
    "    z = np.zeros_like(x) # 입력값과 같은 크기의 배열을 0으로 생성\n",
    "    z[pos_mask] = np.exp(-x[pos_mask])\n",
    "    z[neg_mask] = np.exp(x[neg_mask])\n",
    "    top = np.ones_like(x)\n",
    "    top[neg_mask] = z[neg_mask] #입력값이 0보다 작은 경우 분자를 exp(x)로 설정\n",
    "    return top/(1+z)"
   ]
  },
  {
   "cell_type": "code",
   "execution_count": 80,
   "metadata": {},
   "outputs": [],
   "source": [
    "def init_network():\n",
    "    network = {}\n",
    "    network['b1'] = np.random.randn(36*100).reshape(300,100)\n",
    "    network['W2'] =np.random.randn(100)\n",
    "    network['b2'] = np.random.randn(100*50).reshape((100,50))\n",
    "    network['W3'] =np.random.randn(50)\n",
    "    network['b3'] = np.random.randn(50*2).reshape((50,2))\n",
    "    network['W1'] =np.random.randn(2)\n",
    "    return network\n",
    "\n",
    "def identify_function(x):\n",
    "    return x\n",
    "\n",
    "def predict(network, x):\n",
    "    W1, W2 ,W3 = network['W1'],network['W2'],network['W3']\n",
    "    b1, b2, b3 = network['b1'],network['b2'],network['b3']\n",
    "    \n",
    "    a1 = np.dot(x, W1) + b1\n",
    "    z1 = sigmoid(a1)\n",
    "    a2 = np.dot(z1, W2) + b2\n",
    "    z2 = sigmoid(a2)\n",
    "    a3 = np.dot(z2, W3) + b3\n",
    "    y = softmax(a3)\n",
    "    \n",
    "    return y\n"
   ]
  },
  {
   "cell_type": "markdown",
   "metadata": {},
   "source": [
    "Prediction "
   ]
  },
  {
   "cell_type": "code",
   "execution_count": 81,
   "metadata": {},
   "outputs": [
    {
     "ename": "ValueError",
     "evalue": "cannot reshape array of size 3600 into shape (300,100)",
     "output_type": "error",
     "traceback": [
      "\u001b[1;31m---------------------------------------------------------------------------\u001b[0m",
      "\u001b[1;31mValueError\u001b[0m                                Traceback (most recent call last)",
      "Cell \u001b[1;32mIn[81], line 2\u001b[0m\n\u001b[0;32m      1\u001b[0m x,t \u001b[38;5;241m=\u001b[39m dataset, labels\n\u001b[1;32m----> 2\u001b[0m network \u001b[38;5;241m=\u001b[39m \u001b[43minit_network\u001b[49m\u001b[43m(\u001b[49m\u001b[43m)\u001b[49m\n\u001b[0;32m      4\u001b[0m accuracy_cnt \u001b[38;5;241m=\u001b[39m \u001b[38;5;241m0\u001b[39m\n\u001b[0;32m      6\u001b[0m \u001b[38;5;28;01mfor\u001b[39;00m i \u001b[38;5;129;01min\u001b[39;00m \u001b[38;5;28mrange\u001b[39m(\u001b[38;5;28mlen\u001b[39m(x)):\n",
      "Cell \u001b[1;32mIn[80], line 3\u001b[0m, in \u001b[0;36minit_network\u001b[1;34m()\u001b[0m\n\u001b[0;32m      1\u001b[0m \u001b[38;5;28;01mdef\u001b[39;00m \u001b[38;5;21minit_network\u001b[39m():\n\u001b[0;32m      2\u001b[0m     network \u001b[38;5;241m=\u001b[39m {}\n\u001b[1;32m----> 3\u001b[0m     network[\u001b[38;5;124m'\u001b[39m\u001b[38;5;124mb1\u001b[39m\u001b[38;5;124m'\u001b[39m] \u001b[38;5;241m=\u001b[39m \u001b[43mnp\u001b[49m\u001b[38;5;241;43m.\u001b[39;49m\u001b[43mrandom\u001b[49m\u001b[38;5;241;43m.\u001b[39;49m\u001b[43mrandn\u001b[49m\u001b[43m(\u001b[49m\u001b[38;5;241;43m36\u001b[39;49m\u001b[38;5;241;43m*\u001b[39;49m\u001b[38;5;241;43m100\u001b[39;49m\u001b[43m)\u001b[49m\u001b[38;5;241;43m.\u001b[39;49m\u001b[43mreshape\u001b[49m\u001b[43m(\u001b[49m\u001b[38;5;241;43m300\u001b[39;49m\u001b[43m,\u001b[49m\u001b[38;5;241;43m100\u001b[39;49m\u001b[43m)\u001b[49m\n\u001b[0;32m      4\u001b[0m     network[\u001b[38;5;124m'\u001b[39m\u001b[38;5;124mW2\u001b[39m\u001b[38;5;124m'\u001b[39m] \u001b[38;5;241m=\u001b[39mnp\u001b[38;5;241m.\u001b[39mrandom\u001b[38;5;241m.\u001b[39mrandn(\u001b[38;5;241m100\u001b[39m)\n\u001b[0;32m      5\u001b[0m     network[\u001b[38;5;124m'\u001b[39m\u001b[38;5;124mb2\u001b[39m\u001b[38;5;124m'\u001b[39m] \u001b[38;5;241m=\u001b[39m np\u001b[38;5;241m.\u001b[39mrandom\u001b[38;5;241m.\u001b[39mrandn(\u001b[38;5;241m100\u001b[39m\u001b[38;5;241m*\u001b[39m\u001b[38;5;241m50\u001b[39m)\u001b[38;5;241m.\u001b[39mreshape((\u001b[38;5;241m100\u001b[39m,\u001b[38;5;241m50\u001b[39m))\n",
      "\u001b[1;31mValueError\u001b[0m: cannot reshape array of size 3600 into shape (300,100)"
     ]
    }
   ],
   "source": [
    "x,t = dataset, labels\n",
    "network = init_network()\n",
    "\n",
    "accuracy_cnt = 0\n",
    "\n",
    "for i in range(len(x)):\n",
    "    y = predict(network, x[i])\n",
    "    p = np.argmax(y)\n",
    "    if p == t[i]:\n",
    "        accuracy_cnt += 1\n",
    "print('accuracy: ',+ str(float(accuracy_cnt/len(x))))\n",
    "    "
   ]
  }
 ],
 "metadata": {
  "kernelspec": {
   "display_name": "proj",
   "language": "python",
   "name": "python3"
  },
  "language_info": {
   "codemirror_mode": {
    "name": "ipython",
    "version": 3
   },
   "file_extension": ".py",
   "mimetype": "text/x-python",
   "name": "python",
   "nbconvert_exporter": "python",
   "pygments_lexer": "ipython3",
   "version": "3.10.14"
  }
 },
 "nbformat": 4,
 "nbformat_minor": 2
}
