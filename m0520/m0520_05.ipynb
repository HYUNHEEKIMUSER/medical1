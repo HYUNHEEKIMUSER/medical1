{
 "cells": [
  {
   "cell_type": "code",
   "execution_count": 1,
   "metadata": {},
   "outputs": [],
   "source": [
    "from sklearn import svm,metrics\n",
    "from sklearn.model_selection import train_test_split\n",
    "from sklearn.neighbors import KNeighborsClassifier\n",
    "import matplotlib.pyplot as plt\n",
    "import matplotlib\n",
    "import numpy as np\n",
    "import pandas as pd\n",
    "import seaborn as sns\n",
    "import requests\n",
    "import oracledb\n",
    "import random\n",
    "import glob,os.path,re\n",
    "matplotlib.rcParams['axes.unicode_minus'] = False  # 마이너스 표시 해결\n",
    "# 한글설정\n",
    "matplotlib.rcParams['font.family'] = 'Malgun Gothic' # windows 사용자\n",
    "# matplotlib.rcParams['font.family'] = 'AppleGothic Gothic' # Mac사용자\n",
    "matplotlib.rcParams['font.size'] = '10' # 글자크기"
   ]
  },
  {
   "cell_type": "code",
   "execution_count": 13,
   "metadata": {},
   "outputs": [
    {
     "name": "stdout",
     "output_type": "stream",
     "text": [
      "매칭이 되었습니다.\n"
     ]
    }
   ],
   "source": [
    "import re\n",
    "# 정규표현식\n",
    "p = re.compile('aa.b') #정규표현식을 지정\n",
    "word = 'aacb'\n",
    "word2 = 'abcb'\n",
    "\n",
    "if p.match(word):\n",
    "    print(\"매칭이 되었습니다.\")\n",
    "else : \n",
    "    print(\"매칭이 되지 않았습니다.\")\n"
   ]
  },
  {
   "cell_type": "code",
   "execution_count": 16,
   "metadata": {},
   "outputs": [
    {
     "name": "stdout",
     "output_type": "stream",
     "text": [
      "매칭되었습니다 desk\n"
     ]
    }
   ],
   "source": [
    "# ^de: 첫 시작이 de로 시작되어야 함.\n",
    "word = 'desk'\n",
    "if re.match(r'^(de)',word): # 시작이 de로 시작되어야 함.\n",
    "    print('매칭되었습니다', word)\n",
    "else :\n",
    "    print('매칭되지 않았습니다.',word)\n",
    "    "
   ]
  },
  {
   "cell_type": "code",
   "execution_count": 23,
   "metadata": {},
   "outputs": [
    {
     "name": "stdout",
     "output_type": "stream",
     "text": [
      "매칭되었습니다 case\n"
     ]
    }
   ],
   "source": [
    "# se$: se로 단어가 끝나야 함\n",
    "# match: 정확히 일치해야 true, search: 포함이 되어있으면 true\n",
    "word = 'case'\n",
    "p = re.compile('(se$)')\n",
    "if p.search(word): # 시작이 de로 시작되어야 함.\n",
    "    print('매칭되었습니다', word)\n",
    "else :\n",
    "    print('매칭되지 않았습니다.',word)\n",
    "    "
   ]
  },
  {
   "cell_type": "code",
   "execution_count": 24,
   "metadata": {},
   "outputs": [
    {
     "name": "stdout",
     "output_type": "stream",
     "text": [
      "매칭됨 abcdef\n"
     ]
    }
   ],
   "source": [
    "# {3}: 세 자리가 들어와야 true\n",
    "# {2,3}: 두 자리에서 세 자리가 들어와야 true\n",
    "# ^ 시작\n",
    "# []: []안에 있는 글자만 true\n",
    "# a-z: abc...z / 0-9: 012..9 / A-Z: ABC..Z\n",
    "# ㄱ-ㅎ: 국문만 가능\n",
    "\n",
    "# 첫 글자가 a이면서 소문자만 5개 들어올 수 있음\n",
    "word = 'abcdef'\n",
    "if re.match(r'^a{1}[a-z]{5}$',word):\n",
    "    print('매칭됨', word)\n",
    "else: \n",
    "    print('매칭 안됨')\n",
    "    "
   ]
  },
  {
   "cell_type": "code",
   "execution_count": 27,
   "metadata": {},
   "outputs": [
    {
     "name": "stdout",
     "output_type": "stream",
     "text": [
      "매칭되었습니다. 010-1234-4567\n"
     ]
    }
   ],
   "source": [
    "word='010-1234-4567'\n",
    "if re.search('[0-9]{2,3}-[0-9]{4}-[0-9]{4}', word):\n",
    "    print('매칭되었습니다.',word)\n",
    "else:\n",
    "    print(\"매칭안됨\")"
   ]
  },
  {
   "cell_type": "code",
   "execution_count": null,
   "metadata": {},
   "outputs": [],
   "source": [
    "# 데이터를 입력받아, 길이가 6자리, 첫 글자가 a가 입력이 되면\n",
    "# 제대로 입력되었습니다.\n",
    "# 그렇지 않으면 다시 입력하세요라고 출력되도록 구현\n",
    "# 제대로 입력되어야 프로그램을 종료시킬 수 있습니다.\n",
    "while True:\n",
    "    data = input(\"입력하세요 >> \")\n",
    "    if data.isdigit() and len(data)==6 and data[0] == '1':\n",
    "        print(\"맞습니다.\")\n",
    "        break\n",
    "    else :\n",
    "        print(\"다시 입력하세요\")"
   ]
  },
  {
   "cell_type": "code",
   "execution_count": null,
   "metadata": {},
   "outputs": [],
   "source": []
  }
 ],
 "metadata": {
  "kernelspec": {
   "display_name": "Python 3",
   "language": "python",
   "name": "python3"
  },
  "language_info": {
   "codemirror_mode": {
    "name": "ipython",
    "version": 3
   },
   "file_extension": ".py",
   "mimetype": "text/x-python",
   "name": "python",
   "nbconvert_exporter": "python",
   "pygments_lexer": "ipython3",
   "version": "3.12.0"
  }
 },
 "nbformat": 4,
 "nbformat_minor": 2
}
