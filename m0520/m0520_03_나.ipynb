{
 "cells": [
  {
   "cell_type": "code",
   "execution_count": 194,
   "metadata": {},
   "outputs": [],
   "source": [
    "from sklearn import svm,metrics\n",
    "from sklearn.model_selection import train_test_split\n",
    "from sklearn.neighbors import KNeighborsClassifier\n",
    "import matplotlib.pyplot as plt\n",
    "import matplotlib\n",
    "import numpy as np\n",
    "import pandas as pd\n",
    "import seaborn as sns\n",
    "import requests\n",
    "import oracledb\n",
    "import random\n",
    "import glob,os.path,re\n",
    "matplotlib.rcParams['axes.unicode_minus'] = False  # 마이너스 표시 해결\n",
    "# 한글설정\n",
    "matplotlib.rcParams['font.family'] = 'Malgun Gothic' # windows 사용자\n",
    "# matplotlib.rcParams['font.family'] = 'AppleGothic Gothic' # Mac사용자\n",
    "matplotlib.rcParams['font.size'] = '10' # 글자크기"
   ]
  },
  {
   "cell_type": "code",
   "execution_count": 195,
   "metadata": {},
   "outputs": [],
   "source": [
    "# 각 파일 처리\n",
    "def load_files(path):\n",
    "    freqs = []\n",
    "    results = []\n",
    "    file_list = glob.glob(path)\n",
    "    for fname in file_list: #파일 갯수 20번 실행\n",
    "        name = os.path.basename(fname) # 파일 첫번째\n",
    "        lang = name.split('-')[0]\n",
    "        \n",
    "        with open(fname,'r',encoding='utf8') as f:\n",
    "            text = f.read()  \n",
    "        \n",
    "        text = text.lower() #모든 문자를 소문자로 변환\n",
    "        cnt = [0 for n in range(0,26)]\n",
    "        code_a= ord('a')\n",
    "        code_z= ord('z')\n",
    "        # 메모장안의 모든 문자를 가져와서 a~z 사이의 문자만 저장\n",
    "        for ch in text:\n",
    "            n = ord(ch)        \n",
    "            if code_a <= n <= code_z:\n",
    "                cnt[n-code_a] +=1 # b 98-97 =1 / 1의 자리에 1씩 증가\n",
    "        # 정규화 작업 - 각 피쳐마다 비율을 일정하게 맞춤.\n",
    "        total = sum(cnt)\n",
    "        # 데이터의 값이 0-1사이의 값으로 변환\n",
    "        freq = list(map(lambda n: n/total,cnt))\n",
    "        \n",
    "        # data값을 저장\n",
    "        freqs.append(freq)\n",
    "        \n",
    "        # 결과값 리스트 저장\n",
    "        results.append(lang)\n",
    "        \n",
    "    return {'freqs: ':freqs, 'results ': results}"
   ]
  },
  {
   "cell_type": "markdown",
   "metadata": {},
   "source": [
    "파일확인"
   ]
  },
  {
   "cell_type": "code",
   "execution_count": 196,
   "metadata": {},
   "outputs": [
    {
     "data": {
      "text/plain": [
       "'en'"
      ]
     },
     "execution_count": 196,
     "metadata": {},
     "output_type": "execute_result"
    }
   ],
   "source": [
    "path= './lang/train/*.txt'\n",
    "path2= './lang/test/*.txt'\n",
    "# 함수호출\n",
    "data = load_files(path) #함수호출 - 20개의 train을 가져옴\n",
    "test = load_files(path2) #함수호출 - 8개의 test를 가져옴\n",
    "data['results '][0]\n"
   ]
  },
  {
   "cell_type": "markdown",
   "metadata": {},
   "source": [
    "데이터 전처리 - train 세트, test 세트 생성"
   ]
  },
  {
   "cell_type": "code",
   "execution_count": null,
   "metadata": {},
   "outputs": [],
   "source": [
    "# 아스키코드: 문자를 숫자로 표시, 대문자에 있는 65, 소문자에 있는 97, 숫자 0: 48  (chr / ord)\n",
    "# ASCII a=97 chr(65+32)\n",
    "# ASCII A=65 chr(65)"
   ]
  },
  {
   "cell_type": "code",
   "execution_count": null,
   "metadata": {},
   "outputs": [
    {
     "data": {
      "text/plain": [
       "97"
      ]
     },
     "execution_count": 187,
     "metadata": {},
     "output_type": "execute_result"
    }
   ],
   "source": [
    "chr(50-48) # 숫자 2기 아닌 문자 2가 출력됨\n",
    "ord('a')  # 97이 출력됨\n"
   ]
  },
  {
   "cell_type": "code",
   "execution_count": null,
   "metadata": {},
   "outputs": [
    {
     "data": {
      "text/plain": [
       "[0, 0, 0, 0, 0, 0, 0, 0, 0, 0, 0, 0, 0, 0, 0, 0, 0, 0, 0, 0]"
      ]
     },
     "execution_count": 188,
     "metadata": {},
     "output_type": "execute_result"
    }
   ],
   "source": [
    "[0 for n in range(0,20)]"
   ]
  },
  {
   "cell_type": "code",
   "execution_count": null,
   "metadata": {},
   "outputs": [
    {
     "ename": "KeyError",
     "evalue": "0",
     "output_type": "error",
     "traceback": [
      "\u001b[1;31m---------------------------------------------------------------------------\u001b[0m",
      "\u001b[1;31mKeyError\u001b[0m                                  Traceback (most recent call last)",
      "Cell \u001b[1;32mIn[189], line 2\u001b[0m\n\u001b[0;32m      1\u001b[0m \u001b[38;5;66;03m# 1개 파일 이름\u001b[39;00m\n\u001b[1;32m----> 2\u001b[0m name \u001b[38;5;241m=\u001b[39m os\u001b[38;5;241m.\u001b[39mpath\u001b[38;5;241m.\u001b[39mbasename(\u001b[43mdata\u001b[49m\u001b[43m[\u001b[49m\u001b[38;5;241;43m0\u001b[39;49m\u001b[43m]\u001b[49m)\n\u001b[0;32m      3\u001b[0m lang \u001b[38;5;241m=\u001b[39m name\u001b[38;5;241m.\u001b[39msplit(\u001b[38;5;124m'\u001b[39m\u001b[38;5;124m-\u001b[39m\u001b[38;5;124m'\u001b[39m)\n\u001b[0;32m      4\u001b[0m \u001b[38;5;28mprint\u001b[39m(lang[\u001b[38;5;241m0\u001b[39m])\n",
      "\u001b[1;31mKeyError\u001b[0m: 0"
     ]
    }
   ],
   "source": [
    "# 1개 파일 이름\n",
    "name = os.path.basename(data[0])\n",
    "lang = name.split('-')\n",
    "print(lang[0])\n",
    "# 1개 파일 읽어오기\n",
    "cnt = [0 for n in range(0,26)]  # np.zeros(26) or np.ones(26) 값이 같음\n",
    "with open('./lang/train/'+name,'r',encoding='utf8') as f:\n",
    "    # print(f.read())\n",
    "    text = f.read()\n",
    "    text = text.lower()\n",
    "    # 문자 갯수 세기\n",
    "    # 영문자가 26개 있음. 배열 26개짜리를 1개 생성\n",
    "    # 1개씩 문자를 읽어와서 26개의 배열에서 1씩 추가\n",
    "    code_a= ord('a')\n",
    "    code_z= ord('z')\n",
    "    for ch in text: \n",
    "        n = ord(ch)\n",
    "        if code_a <= n <= code_z: # a~z사이의 문자이면 \n",
    "        # 리스트에 저장\n",
    "            cnt[n-code_a] +=1 #해당되는 위치에 1을 증가\n",
    "            \n",
    "        # 정규화\n",
    "        total = sum(cnt)\n",
    "        # freq의 배열의 값을 total로 나눠서 다시 리스트로 만듦\n",
    "        # -------------------------------------------------------------\n",
    "        # freq = []\n",
    "        # for i in cnt:\n",
    "        #     freq.append((i/total)) 세 문장이 아래 한 문장과 같음\n",
    "        # -------------------------------------------------------------\n",
    "        # def change(n):\n",
    "        #     return n/total\n",
    "        # freq = list(map[change(n),cnt]) 세 문장이 아래 한 문장과 같음\n",
    "        \n",
    "        freq = list(map(lambda n : n/total,cnt))\n",
    "print(freq)\n",
    "    "
   ]
  },
  {
   "cell_type": "code",
   "execution_count": null,
   "metadata": {},
   "outputs": [
    {
     "name": "stdout",
     "output_type": "stream",
     "text": [
      "en-1.txt\n",
      "['en', '1.txt']\n",
      "en-2.txt\n",
      "['en', '2.txt']\n",
      "en-3.txt\n",
      "['en', '3.txt']\n",
      "en-4.txt\n",
      "['en', '4.txt']\n",
      "en-5.txt\n",
      "['en', '5.txt']\n",
      "fr-10.txt\n",
      "['fr', '10.txt']\n",
      "fr-6.txt\n",
      "['fr', '6.txt']\n",
      "fr-7.txt\n",
      "['fr', '7.txt']\n",
      "fr-8.txt\n",
      "['fr', '8.txt']\n",
      "fr-9.txt\n",
      "['fr', '9.txt']\n",
      "id-11.txt\n",
      "['id', '11.txt']\n",
      "id-12.txt\n",
      "['id', '12.txt']\n",
      "id-13.txt\n",
      "['id', '13.txt']\n",
      "id-14.txt\n",
      "['id', '14.txt']\n",
      "id-15.txt\n",
      "['id', '15.txt']\n",
      "tl-16.txt\n",
      "['tl', '16.txt']\n",
      "tl-17.txt\n",
      "['tl', '17.txt']\n",
      "tl-18.txt\n",
      "['tl', '18.txt']\n",
      "tl-19.txt\n",
      "['tl', '19.txt']\n",
      "tl-20.txt\n",
      "['tl', '20.txt']\n"
     ]
    },
    {
     "data": {
      "text/plain": [
       "['en',\n",
       " 'en',\n",
       " 'en',\n",
       " 'en',\n",
       " 'en',\n",
       " 'fr',\n",
       " 'fr',\n",
       " 'fr',\n",
       " 'fr',\n",
       " 'fr',\n",
       " 'id',\n",
       " 'id',\n",
       " 'id',\n",
       " 'id',\n",
       " 'id',\n",
       " 'tl',\n",
       " 'tl',\n",
       " 'tl',\n",
       " 'tl',\n",
       " 'tl']"
      ]
     },
     "execution_count": 71,
     "metadata": {},
     "output_type": "execute_result"
    }
   ],
   "source": [
    "# basename - 이름만 들고 오는 것\n",
    "# name = os.path.basename(file_list[0])\n",
    "# 폴더내 모든 파일 이름 가져오기\n",
    "results = []\n",
    "data = []\n",
    "for fname in data:\n",
    "    name = os.path.basename(fname)\n",
    "    print(name)\n",
    "# 데이터 가져오기\n",
    "    \n",
    "# str split사용해서 앞에 있는 두 글자만 분리해서 출력\n",
    "    lang = name.split('-')\n",
    "    print(lang)\n",
    "    results.append(lang[0])\n"
   ]
  }
 ],
 "metadata": {
  "kernelspec": {
   "display_name": "Python 3",
   "language": "python",
   "name": "python3"
  },
  "language_info": {
   "codemirror_mode": {
    "name": "ipython",
    "version": 3
   },
   "file_extension": ".py",
   "mimetype": "text/x-python",
   "name": "python",
   "nbconvert_exporter": "python",
   "pygments_lexer": "ipython3",
   "version": "3.12.0"
  }
 },
 "nbformat": 4,
 "nbformat_minor": 2
}
