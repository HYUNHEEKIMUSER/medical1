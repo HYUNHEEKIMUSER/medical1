{
 "cells": [
  {
   "cell_type": "code",
   "execution_count": 102,
   "metadata": {},
   "outputs": [],
   "source": [
    "from sklearn import svm,metrics\n",
    "from sklearn.model_selection import train_test_split #데이터 전처리 - train, test 분리 random_state=42\n",
    "from sklearn.neighbors import KNeighborsClassifier #분류/ 데이터 학습하기\n",
    "from sklearn.neighbors import KNeighborsRegressor  #회귀 예측\n",
    "from sklearn.metrics import mean_absolute_error\n",
    "from sklearn.linear_model import LinearRegression #선형회귀\n",
    "from sklearn.preprocessing import PolynomialFeatures #끝난 뒤 특성을 추가해서 모델을 적용\n",
    "from sklearn.preprocessing import StandardScaler #표준화작업 (instead of 데이터값 - 평균/ 표준편차) - 전처리 전\n",
    "from sklearn.linear_model import Ridge #릿지회귀\n",
    "from scipy.special import softmax # 행 하나하나 1로 맞춤\n",
    "from sklearn.linear_model import LogisticRegression #로지스틱 - 맞출 확률을 나타내는 것(1에 가깝게)\n",
    "from sklearn.linear_model import SGDClassifier #경사하강법 - 머신러닝을 훈련하는 방법, 다 끝나고 정답률 높이기 위해 \n",
    "from statsmodels.stats.outliers_influence import variance_inflation_factor #회귀분석 예측 - 고려사항 체크\n",
    "import statsmodels.api as sm # train set 평가서 볼 수 있는 모듈\n",
    "from sklearn.model_selection import cross_validate # 머신러닝 - cross_validate\n",
    "from sklearn.ensemble import RandomForestClassifier\n",
    "from collections import Counter #counter 함수\n",
    "from sklearn.feature_extraction.text import CountVectorizer # 전체단어에서 각 단어에 번호를 생성부여\n",
    "from scipy import stats # t-test\n",
    "from tensorflow import keras\n",
    "from konlpy.tag import Okt  #텍스트마이닝\n",
    "import operator\n",
    "import tensorflow as tf\n",
    "import matplotlib.pyplot as plt\n",
    "import matplotlib\n",
    "import numpy as np\n",
    "import pandas as pd\n",
    "import seaborn as sns\n",
    "import requests\n",
    "import oracledb\n",
    "import random\n",
    "import seaborn as sns\n",
    "import glob,os.path,re\n",
    "import seaborn as sns\n",
    "matplotlib.rcParams['axes.unicode_minus'] = False  # 마이너스 표시 해결\n",
    "# 한글설정\n",
    "matplotlib.rcParams['font.family'] = 'Malgun Gothic' # windows 사용자\n",
    "# matplotlib.rcParams['font.family'] = 'AppleGothic Gothic' # Mac사용자\n",
    "matplotlib.rcParams['font.size'] = '10' # 글자크기"
   ]
  },
  {
   "cell_type": "code",
   "execution_count": 103,
   "metadata": {},
   "outputs": [],
   "source": [
    "import requests\n",
    "import time\n",
    "import random\n",
    "from bs4 import BeautifulSoup\n",
    "from selenium import webdriver\n",
    "from selenium.webdriver.common.by import By\n",
    "from selenium.webdriver.common.keys import Keys\n",
    "# 화면이 나타나는 것을 확인\n",
    "from selenium.webdriver.support.ui import WebDriverWait\n",
    "from selenium.webdriver.support import expected_conditions as EC\n",
    "import pyautogui"
   ]
  },
  {
   "cell_type": "code",
   "execution_count": 104,
   "metadata": {},
   "outputs": [],
   "source": [
    "# 상품평 열리게 하는 것\n",
    "options = webdriver.ChromeOptions()\n",
    "options.add_argument('--disable-blink-features=AutomationControlled')\n",
    "browser = webdriver.Chrome(options=options)"
   ]
  },
  {
   "cell_type": "code",
   "execution_count": 105,
   "metadata": {},
   "outputs": [],
   "source": [
    "headers = {\"User-Agent\":\"Mozilla/5.0 (Windows NT 10.0; Win64; x64) AppleWebKit/537.36 (KHTML, like Gecko) Chrome/124.0.0.0 Safari/537.36\",\"Accep-Language\":\"ko-KR,ko;q=0.9,en-US;q=0.8,en;q=0.7\"}\n",
    "url = \"https://namu.wiki/RecentChanges\"\n",
    "\n",
    "browser = webdriver.Chrome()\n",
    "browser.maximize_window()\n",
    "browser.get(url)"
   ]
  },
  {
   "cell_type": "code",
   "execution_count": 106,
   "metadata": {},
   "outputs": [],
   "source": [
    "soup = BeautifulSoup(browser.page_source,'lxml')\n",
    "with open('harim_html','w',encoding='utf8') as f: f.write(soup.prettify())"
   ]
  },
  {
   "cell_type": "code",
   "execution_count": 107,
   "metadata": {},
   "outputs": [
    {
     "data": {
      "text/plain": [
       "<html><head><link href=\"/skins/espejo/156.58237f5952444cce7b91.css\" rel=\"stylesheet\"/><link href=\"/skins/espejo/nqgblbvk.0fded77da1c748b607a7.css\" rel=\"stylesheet\"/><style type=\"text/css\">.resize-observer[data-v-b329ee4c]{position:absolute;top:0;left:0;z-index:-1;width:100%;height:100%;border:none;background-color:transparent;pointer-events:none;display:block;overflow:hidden;opacity:0}.resize-observer[data-v-b329ee4c] object{display:block;position:absolute;top:0;left:0;height:100%;width:100%;overflow:hidden;pointer-events:none;z-index:-1}</style></head><body><div id=\"app\"><style>#app-loading {  visibility: hidden;  opacity: 0;  position: absolute;  left: 0;  right: 0;  top: 0;  bottom: 0;  display: flex;  justify-content: center;  align-items: center;  flex-direction: column;  animation: appLoadingIn 10s ease;  -webkit-animation: appLoadingIn 10s ease;  animation-fill-mode: forwards;  overflow: hidden;}@keyframes appLoadingIn {  0% {visibility: hidden;opacity: 0;  }  20% {visibility: visible;opacity: 0;  }  100% {visibility: visible;opacity: 1;  }}@-webkit-keyframes appLoadingIn {  0% {visibility: hidden;opacity: 0;  }  20% {visibility: visible;opacity: 0;  }  100% {visibility: visible;opacity: 1;  }}#app-loading>div,#app-loading>div:after {  border-radius: 50%;  width: 5rem;  height: 5rem;}#app-loading>div {  font-size: 10px;  position: relative;  text-indent: -9999em;  border: .5rem solid #F5F5F5;  border-left: .5rem solid white;  -webkit-transform: translateZ(0);  -ms-transform: translateZ(0);  transform: translateZ(0);  -webkit-animation: appLoading 1.1s infinite linear;  animation: appLoading 1.1s infinite linear;}#app-loading.error>div {  border-left: .5rem solid #ff4500;  animation-duration: 5s;}@-webkit-keyframes appLoading {  0% {-webkit-transform: rotate(0deg);transform: rotate(0deg);  }  100% {-webkit-transform: rotate(360deg);transform: rotate(360deg);  }}@keyframes appLoading {  0% {-webkit-transform: rotate(0deg);transform: rotate(0deg);  }  100% {-webkit-transform: rotate(360deg);transform: rotate(360deg);  }}</style><script>window.addEventListener('error', function () {  var e = document.getElementById('app-loading');  if (e) {e.className += ' error';  }});</script><div aria-live=\"polite\" id=\"app-loading\" role=\"status\"><div>Loading...</div></div></div><script src=\"/skins/espejo/qjhdzsll.c6c1cff4453f3723717f.js\" type=\"text/javascript\"></script><script src=\"/skins/espejo/ynnstcgs.00ff8a829c2d572c1538.js\" type=\"text/javascript\"></script><script src=\"/skins/espejo/nqgblbvk.0fded77da1c748b607a7.js\" type=\"text/javascript\"></script><script>(function(){if (!document.body) return;var js = \"window['__CF$cv$params']={r:'88c5e3185c27307f',t:'MTcxNzE0NzIxNi43ODcwMDA='};_cpo=document.createElement('script');_cpo.nonce='',_cpo.src='/cdn-cgi/challenge-platform/scripts/jsd/main.js',document.getElementsByTagName('head')[0].appendChild(_cpo);\";var _0xh = document.createElement('iframe');_0xh.height = 1;_0xh.width = 1;_0xh.style.position = 'absolute';_0xh.style.top = 0;_0xh.style.left = 0;_0xh.style.border = 'none';_0xh.style.visibility = 'hidden';document.body.appendChild(_0xh);function handler() {var _0xi = _0xh.contentDocument || _0xh.contentWindow.document;if (_0xi) {var _0xj = _0xi.createElement('script');_0xj.innerHTML = js;_0xi.getElementsByTagName('head')[0].appendChild(_0xj);}}if (document.readyState !== 'loading') {handler();} else if (window.addEventListener) {document.addEventListener('DOMContentLoaded', handler);} else {var prev = document.onreadystatechange || function () {};document.onreadystatechange = function (e) {prev(e);if (document.readyState !== 'loading') {document.onreadystatechange = prev;handler();}};}})();</script><iframe height=\"1\" style=\"position: absolute; top: 0px; left: 0px; border: none; visibility: hidden;\" width=\"1\"></iframe></body></html>"
      ]
     },
     "execution_count": 107,
     "metadata": {},
     "output_type": "execute_result"
    }
   ],
   "source": [
    "soup"
   ]
  },
  {
   "cell_type": "code",
   "execution_count": 108,
   "metadata": {},
   "outputs": [],
   "source": [
    "# total = soup.find('div',{'class':'ZwKxsM2a'})"
   ]
  },
  {
   "cell_type": "code",
   "execution_count": 109,
   "metadata": {},
   "outputs": [],
   "source": [
    "# writing = total.find_all('div',{'class':'_8oAzWWZX'})"
   ]
  },
  {
   "cell_type": "code",
   "execution_count": 110,
   "metadata": {},
   "outputs": [],
   "source": [
    "# urls = []\n",
    "# for i in range(1, len(writing)):\n",
    "#     # urls.append(\"https://www.coupang.com/vp/products/227331483?itemId=720227345&vendorItemId=4822351124&q=%ED%95%98%EB%A6%BC+%EB%8B%AD%EA%B0%80%EC%8A%B4%EC%82%B4&itemsCount=36&searchId=d7ef396815ec4c99aeb9825b12527033&rank=0&isAddedCart=\"\n",
    "# + writing[i].a['href'])"
   ]
  }
 ],
 "metadata": {
  "kernelspec": {
   "display_name": "Python 3",
   "language": "python",
   "name": "python3"
  },
  "language_info": {
   "codemirror_mode": {
    "name": "ipython",
    "version": 3
   },
   "file_extension": ".py",
   "mimetype": "text/x-python",
   "name": "python",
   "nbconvert_exporter": "python",
   "pygments_lexer": "ipython3",
   "version": "3.12.3"
  }
 },
 "nbformat": 4,
 "nbformat_minor": 2
}
