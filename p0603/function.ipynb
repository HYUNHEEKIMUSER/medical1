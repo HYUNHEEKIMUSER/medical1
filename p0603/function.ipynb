{
 "cells": [
  {
   "cell_type": "markdown",
   "metadata": {},
   "source": [
    "Function\n",
    "- 반복성을 줄이고 함수로 선언한 연산을 재사용\n",
    "- 객체 지향 언어의 가장 큰 장점"
   ]
  },
  {
   "cell_type": "code",
   "execution_count": 5,
   "metadata": {},
   "outputs": [],
   "source": [
    "def 함수명(파라미터):\n",
    "    return 출력값"
   ]
  },
  {
   "cell_type": "code",
   "execution_count": 6,
   "metadata": {},
   "outputs": [
    {
     "name": "stdout",
     "output_type": "stream",
     "text": [
      "604\n",
      "603\n"
     ]
    }
   ],
   "source": [
    "# 리턴을 선언하지 않고 사용하는 경우-> 함수가 연산 도구로만 사용될 때\n",
    "# 전역변수, 지역변수\n",
    "num = 603\n",
    "\n",
    "def today():\n",
    "    num = 604\n",
    "    print(num)\n",
    "    \n",
    "today()\n",
    "print(num)"
   ]
  },
  {
   "cell_type": "code",
   "execution_count": 7,
   "metadata": {},
   "outputs": [
    {
     "name": "stdout",
     "output_type": "stream",
     "text": [
      "604\n",
      "604\n"
     ]
    }
   ],
   "source": [
    "num = 603\n",
    "\n",
    "def today():\n",
    "    global num\n",
    "    num = 604\n",
    "    print(num)\n",
    "    \n",
    "today()\n",
    "print(num)"
   ]
  },
  {
   "cell_type": "markdown",
   "metadata": {},
   "source": [
    "map함수 = 판다스의 apply\n",
    "\n",
    "-순서가 있는 데이터 값에 함수를 모두 적용하여 결과를 출력하는 함수"
   ]
  },
  {
   "cell_type": "markdown",
   "metadata": {},
   "source": [
    "map(적용할 함수, 입력할 데이터)"
   ]
  },
  {
   "cell_type": "code",
   "execution_count": 8,
   "metadata": {},
   "outputs": [
    {
     "data": {
      "text/plain": [
       "[1, 2, 3, 4, 5, 6]"
      ]
     },
     "execution_count": 8,
     "metadata": {},
     "output_type": "execute_result"
    }
   ],
   "source": [
    "num_txt = '1 2 3 4 5 6'\n",
    "num_int = list(map(int, num_txt.split(' ')))\n",
    "\n",
    "num_int"
   ]
  },
  {
   "cell_type": "markdown",
   "metadata": {},
   "source": [
    "lambda 함수\n",
    "- 간단한 연산을 구현하여 일시적으로 사용하는 함수"
   ]
  },
  {
   "cell_type": "code",
   "execution_count": 10,
   "metadata": {},
   "outputs": [],
   "source": [
    "import numpy as np"
   ]
  },
  {
   "cell_type": "markdown",
   "metadata": {},
   "source": [
    "lambda 리턴: 연산"
   ]
  },
  {
   "cell_type": "code",
   "execution_count": 13,
   "metadata": {},
   "outputs": [
    {
     "data": {
      "text/plain": [
       "(array([11,  1, 65, 69, 17, 45, 28, 14, 66, 85]),\n",
       " [3, 0, 21, 23, 5, 15, 9, 4, 22, 28])"
      ]
     },
     "execution_count": 13,
     "metadata": {},
     "output_type": "execute_result"
    }
   ],
   "source": [
    "seq = np.random.randint(1,101, 10)\n",
    "q= list(map(lambda x: x//3, seq))\n",
    "\n",
    "seq, q"
   ]
  }
 ],
 "metadata": {
  "kernelspec": {
   "display_name": "Python 3",
   "language": "python",
   "name": "python3"
  },
  "language_info": {
   "codemirror_mode": {
    "name": "ipython",
    "version": 3
   },
   "file_extension": ".py",
   "mimetype": "text/x-python",
   "name": "python",
   "nbconvert_exporter": "python",
   "pygments_lexer": "ipython3",
   "version": "3.12.3"
  }
 },
 "nbformat": 4,
 "nbformat_minor": 2
}
