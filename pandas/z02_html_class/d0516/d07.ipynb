{
 "cells": [
  {
   "cell_type": "markdown",
   "metadata": {},
   "source": [
    "### 1월 2월 3월 4월 합산을 해서 가로막대 그래프를 출력하시오."
   ]
  },
  {
   "cell_type": "code",
   "execution_count": 1,
   "metadata": {},
   "outputs": [],
   "source": [
    "import matplotlib.pyplot as plt\n",
    "# 한글설정\n",
    "import matplotlib \n",
    "import pandas as pd\n",
    "matplotlib.rcParams['font.family'] = 'Malgun Gothic' #윈도우사용자\n",
    "# matplotlib.rcParams['font.family'] = 'AppleGothic Gothic' 맥사용자\n",
    "matplotlib.rcParams['font.size'] = '15'  #글자크기\n",
    "matplotlib.rcParams['axes.unicode_minus'] = False #마이너스 표시 해결"
   ]
  },
  {
   "cell_type": "code",
   "execution_count": 9,
   "metadata": {},
   "outputs": [
    {
     "name": "stderr",
     "output_type": "stream",
     "text": [
      "c:\\Python312\\Lib\\site-packages\\openpyxl\\styles\\stylesheet.py:226: UserWarning: Workbook contains no default style, apply openpyxl's default\n",
      "  warn(\"Workbook contains no default style, apply openpyxl's default\")\n",
      "c:\\Python312\\Lib\\site-packages\\openpyxl\\styles\\stylesheet.py:226: UserWarning: Workbook contains no default style, apply openpyxl's default\n",
      "  warn(\"Workbook contains no default style, apply openpyxl's default\")\n",
      "c:\\Python312\\Lib\\site-packages\\openpyxl\\styles\\stylesheet.py:226: UserWarning: Workbook contains no default style, apply openpyxl's default\n",
      "  warn(\"Workbook contains no default style, apply openpyxl's default\")\n"
     ]
    },
    {
     "data": {
      "text/plain": [
       "Index(['Unnamed: 1', 'Unnamed: 4', 'Unnamed: 5', 'Unnamed: 6', 'Unnamed: 7',\n",
       "       'Unnamed: 8', 'Unnamed: 9', 'Unnamed: 10', 'Unnamed: 11', 'Unnamed: 12',\n",
       "       'Unnamed: 13', 'Unnamed: 14', 'Unnamed: 15', 'Unnamed: 16',\n",
       "       'Unnamed: 17', 'Unnamed: 18', 'Unnamed: 19', 'Unnamed: 20',\n",
       "       'Unnamed: 21', 'Unnamed: 22', 'Unnamed: 23', 'Unnamed: 24'],\n",
       "      dtype='object')"
      ]
     },
     "execution_count": 9,
     "metadata": {},
     "output_type": "execute_result"
    }
   ],
   "source": [
    "df = pd.read_excel('20230104_연령별인구현황.xlsx',thousands=',',usecols='B,E:Y')\n",
    "df2 = pd.read_excel('20230104_연령별인구현황.xlsx',thousands=',',usecols='B,AB:AV')\n",
    "\n",
    "df_feb = pd.read_excel('20230104_연령별인구현황.xlsx',thousands=',',usecols='B,AY:BS')\n",
    "df2_feb = pd.read_excel('20230104_연령별인구현황.xlsx',thousands=',',usecols='B,BV:CP')\n",
    "\n",
    "# df_mar = pd.read_excel('20230104_연령별인구현황.xlsx',thousands=',',usecols='B,E:Y')\n",
    "# df2_mar = pd.read_excel('20230104_연령별인구현황.xlsx',thousands=',',usecols='B,AB:AV')\n",
    "\n",
    "# df_apr = pd.read_excel('20230104_연령별인구현황.xlsx',thousands=',',usecols='B,E:Y')\n",
    "# df2_apr = pd.read_excel('20230104_연령별인구현황.xlsx',thousands=',',usecols='B,AB:AV')\n",
    "df.columns=df2.columns\n",
    "df_feb=df2_feb"
   ]
  },
  {
   "cell_type": "code",
   "execution_count": null,
   "metadata": {},
   "outputs": [],
   "source": []
  }
 ],
 "metadata": {
  "kernelspec": {
   "display_name": "Python 3",
   "language": "python",
   "name": "python3"
  },
  "language_info": {
   "codemirror_mode": {
    "name": "ipython",
    "version": 3
   },
   "file_extension": ".py",
   "mimetype": "text/x-python",
   "name": "python",
   "nbconvert_exporter": "python",
   "pygments_lexer": "ipython3",
   "version": "3.12.0"
  }
 },
 "nbformat": 4,
 "nbformat_minor": 2
}
